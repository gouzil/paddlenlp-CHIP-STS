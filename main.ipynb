{
 "cells": [
  {
   "attachments": {},
   "cell_type": "markdown",
   "metadata": {},
   "source": [
    "# 平安医疗科技疾病问答迁移学习（CHIP-STS）"
   ]
  },
  {
   "cell_type": "markdown",
   "metadata": {},
   "source": [
    "本次题目是CHIP 2019中的评测任务二，由平安医疗科技主办。\n",
    "\n",
    "迁移学习是自然语言处理中的重要一环，其主要目的是通过从已学习的相关任务中转移知识来改进新任务的学习效果，从而提高模型的泛化能力。\n",
    "\n",
    "本次评测任务的主要目标是针对中文的疾病问答数据，进行病种间的迁移学习。具体而言，给定来自5个不同病种的问句对，要求判定两个句子语义是否相同或者相近。所有语料来自互联网上患者真实的问题，并经过了筛选和人工的意图匹配标注。"
   ]
  },
  {
   "cell_type": "code",
   "execution_count": null,
   "metadata": {
    "scrolled": true,
    "tags": []
   },
   "outputs": [],
   "source": [
    "# 下载最新版本的paddlenlp\n",
    "!pip install --upgrade pip\n",
    "!pip install paddlenlp --upgrade\n",
    "!pip install paddlepaddle"
   ]
  },
  {
   "cell_type": "code",
   "execution_count": 2,
   "metadata": {
    "execution": {
     "iopub.execute_input": "2022-12-20T15:08:03.824028Z",
     "iopub.status.busy": "2022-12-20T15:08:03.823459Z",
     "iopub.status.idle": "2022-12-20T15:08:06.949693Z",
     "shell.execute_reply": "2022-12-20T15:08:06.948777Z",
     "shell.execute_reply.started": "2022-12-20T15:08:03.824000Z"
    },
    "scrolled": true
   },
   "outputs": [],
   "source": [
    "import paddlenlp\n",
    "import paddle"
   ]
  },
  {
   "cell_type": "markdown",
   "metadata": {},
   "source": [
    "## 数据集\n",
    "数据说明\n",
    "\n",
    "数据由train.csv、dev.csv、test.csv三个文件构成：\n",
    "\n",
    "train.csv是训练集，包含2万对人工标注好的疾病问答数据，由5个病种构成，其中diabetes10000对，hypertension、hepatitis、aids、breast_cancer各2500对；\n",
    "\n",
    "dev.csv是验证集，包含10000对无label的疾病问答数据，由5个病种构成，其中diabetes，hypertension、hepatitis、aids、breast_cancer各2000对；\n",
    "\n",
    "test.csv是测试集，包含5万对人工标注好的疾病问答数据，其中只有部分数据供验证。\n",
    "\n",
    "category表示问句对的病种名称，分别对应：\n",
    "\n",
    "diabetes-糖尿病，hypertension-高血压，hepatitis-乙肝，aids-艾滋病，breast_cancer-乳腺癌。\n",
    "\n",
    "label表示问句之间的语义是否相同。若相同，标为1，若不相同，标为0。\n",
    "\n",
    "其中，训练集label已知，验证集和测试集label未知。"
   ]
  },
  {
   "cell_type": "code",
   "execution_count": 3,
   "metadata": {
    "execution": {
     "iopub.execute_input": "2022-12-20T15:08:06.951598Z",
     "iopub.status.busy": "2022-12-20T15:08:06.950827Z",
     "iopub.status.idle": "2022-12-20T15:08:07.438973Z",
     "shell.execute_reply": "2022-12-20T15:08:07.437998Z",
     "shell.execute_reply.started": "2022-12-20T15:08:06.951566Z"
    },
    "scrolled": true,
    "tags": []
   },
   "outputs": [
    {
     "name": "stdout",
     "output_type": "stream",
     "text": [
      "Archive:  平安医疗疾病问答比赛数据集.zip\r\n",
      "  inflating: train.csv               \r\n",
      "  inflating: dev_id.csv              \r\n",
      "  inflating: test_final.csv          \r\n"
     ]
    }
   ],
   "source": [
    "!cd ./data/ && unzip 平安医疗疾病问答比赛数据集.zip "
   ]
  },
  {
   "cell_type": "markdown",
   "metadata": {},
   "source": [
    "### 查看数据集"
   ]
  },
  {
   "cell_type": "code",
   "execution_count": 4,
   "metadata": {
    "execution": {
     "iopub.execute_input": "2022-12-20T15:08:07.440593Z",
     "iopub.status.busy": "2022-12-20T15:08:07.440305Z",
     "iopub.status.idle": "2022-12-20T15:08:07.515075Z",
     "shell.execute_reply": "2022-12-20T15:08:07.514318Z",
     "shell.execute_reply.started": "2022-12-20T15:08:07.440566Z"
    },
    "scrolled": true,
    "tags": []
   },
   "outputs": [
    {
     "data": {
      "text/html": [
       "<div>\n",
       "<style scoped>\n",
       "    .dataframe tbody tr th:only-of-type {\n",
       "        vertical-align: middle;\n",
       "    }\n",
       "\n",
       "    .dataframe tbody tr th {\n",
       "        vertical-align: top;\n",
       "    }\n",
       "\n",
       "    .dataframe thead th {\n",
       "        text-align: right;\n",
       "    }\n",
       "</style>\n",
       "<table border=\"1\" class=\"dataframe\">\n",
       "  <thead>\n",
       "    <tr style=\"text-align: right;\">\n",
       "      <th></th>\n",
       "      <th>question1</th>\n",
       "      <th>question2</th>\n",
       "      <th>label</th>\n",
       "    </tr>\n",
       "  </thead>\n",
       "  <tbody>\n",
       "    <tr>\n",
       "      <th>0</th>\n",
       "      <td>艾滋病窗口期会出现腹泻症状吗</td>\n",
       "      <td>头疼腹泻四肢无力是不是艾滋病</td>\n",
       "      <td>0</td>\n",
       "    </tr>\n",
       "    <tr>\n",
       "      <th>1</th>\n",
       "      <td>由于糖尿病引起末梢神经炎，怎么根治？</td>\n",
       "      <td>糖尿病末梢神经炎的治疗方法</td>\n",
       "      <td>1</td>\n",
       "    </tr>\n",
       "    <tr>\n",
       "      <th>2</th>\n",
       "      <td>H型高血压，是通所说的高血脂？</td>\n",
       "      <td>高血压引起脑出血怎么抢救治疗</td>\n",
       "      <td>0</td>\n",
       "    </tr>\n",
       "    <tr>\n",
       "      <th>3</th>\n",
       "      <td>糖尿病跟尿毒症有什么区别？</td>\n",
       "      <td>糖尿病人，尿酸只有4.6是什么原因造成的？</td>\n",
       "      <td>0</td>\n",
       "    </tr>\n",
       "    <tr>\n",
       "      <th>4</th>\n",
       "      <td>你好，我60岁，患高血压，80135，爱喝酸奶可以吗？</td>\n",
       "      <td>高血压糖尿病人可以喝牛奶吗？</td>\n",
       "      <td>1</td>\n",
       "    </tr>\n",
       "  </tbody>\n",
       "</table>\n",
       "</div>"
      ],
      "text/plain": [
       "                     question1              question2  label\n",
       "0               艾滋病窗口期会出现腹泻症状吗         头疼腹泻四肢无力是不是艾滋病      0\n",
       "1           由于糖尿病引起末梢神经炎，怎么根治？          糖尿病末梢神经炎的治疗方法      1\n",
       "2              H型高血压，是通所说的高血脂？         高血压引起脑出血怎么抢救治疗      0\n",
       "3                糖尿病跟尿毒症有什么区别？  糖尿病人，尿酸只有4.6是什么原因造成的？      0\n",
       "4  你好，我60岁，患高血压，80135，爱喝酸奶可以吗？         高血压糖尿病人可以喝牛奶吗？      1"
      ]
     },
     "execution_count": 4,
     "metadata": {},
     "output_type": "execute_result"
    }
   ],
   "source": [
    "# 读取数据集\n",
    "import pandas\n",
    "\n",
    "train = pandas.read_csv('./data/train.csv', sep=',')  # 有标签的训练数据文件\n",
    "dev = pandas.read_csv('。/data/dev_id.csv', sep=',')    # 要进行预测的测试数据文件\n",
    "\n",
    "# 本项目只判断语义是否一致, 所以删除类别\n",
    "# 删除 category 列\n",
    "del train['category']\n",
    "del dev['category']\n",
    "del dev['id']\n",
    "\n",
    "# 查看训练数据前5条\n",
    "train.head()\n",
    "# 查看训练数据文件信息\n",
    "# train.info()\n",
    "# 统计训练数据类别标签分布, 可以看出相当均衡, 不愧是比赛数据集\n",
    "# train['label'].value_counts()"
   ]
  },
  {
   "cell_type": "code",
   "execution_count": 5,
   "metadata": {
    "execution": {
     "iopub.execute_input": "2022-12-20T15:08:07.517471Z",
     "iopub.status.busy": "2022-12-20T15:08:07.517039Z",
     "iopub.status.idle": "2022-12-20T15:08:07.554914Z",
     "shell.execute_reply": "2022-12-20T15:08:07.554163Z",
     "shell.execute_reply.started": "2022-12-20T15:08:07.517444Z"
    },
    "scrolled": true,
    "tags": []
   },
   "outputs": [
    {
     "name": "stdout",
     "output_type": "stream",
     "text": [
      "count    20000.000000\r\n",
      "mean        13.052450\r\n",
      "std          4.702489\r\n",
      "min          2.000000\r\n",
      "25%         10.000000\r\n",
      "50%         12.000000\r\n",
      "75%         15.000000\r\n",
      "max         57.000000\r\n",
      "Name: question1, dtype: float64\r\n",
      "count    20000.000000\r\n",
      "mean        13.916000\r\n",
      "std          5.251421\r\n",
      "min          2.000000\r\n",
      "25%         10.000000\r\n",
      "50%         13.000000\r\n",
      "75%         16.000000\r\n",
      "max         73.000000\r\n",
      "Name: question2, dtype: float64\r\n",
      "count    10000.000000\r\n",
      "mean        13.352600\r\n",
      "std          5.031442\r\n",
      "min          2.000000\r\n",
      "25%         10.000000\r\n",
      "50%         12.000000\r\n",
      "75%         15.000000\r\n",
      "max         50.000000\r\n",
      "Name: question1, dtype: float64\r\n",
      "count    10000.000000\r\n",
      "mean        14.493700\r\n",
      "std          5.570787\r\n",
      "min          3.000000\r\n",
      "25%         11.000000\r\n",
      "50%         13.000000\r\n",
      "75%         17.000000\r\n",
      "max         52.000000\r\n",
      "Name: question2, dtype: float64\r\n"
     ]
    }
   ],
   "source": [
    "# 查看数据的统计文本长度, 便于后续确定预训练模型的max_seq_length\n",
    "print(train['question1'].map(len).describe())\n",
    "print(train['question2'].map(len).describe())\n",
    "print(dev['question1'].map(len).describe())\n",
    "print(dev['question2'].map(len).describe())"
   ]
  },
  {
   "cell_type": "markdown",
   "metadata": {},
   "source": [
    "### 划分训练和验证集"
   ]
  },
  {
   "cell_type": "code",
   "execution_count": 6,
   "metadata": {
    "execution": {
     "iopub.execute_input": "2022-12-20T15:08:07.556318Z",
     "iopub.status.busy": "2022-12-20T15:08:07.556018Z",
     "iopub.status.idle": "2022-12-20T15:08:07.619393Z",
     "shell.execute_reply": "2022-12-20T15:08:07.618512Z",
     "shell.execute_reply.started": "2022-12-20T15:08:07.556291Z"
    },
    "scrolled": true
   },
   "outputs": [],
   "source": [
    "# 根据label的具体类别按9:1的比例去划分训练和验证集,使训练和验证集尽量同分布。 当然也可以尝试直接根据索引去划分\n",
    "from sklearn.utils import shuffle\n",
    "\n",
    "new_train = pandas.DataFrame()  # 定义训练集\n",
    "new_valid = pandas.DataFrame()  # 定义验证集\n",
    "\n",
    "tags = list(train.label.unique())  # 总类别\n",
    "# 根据类别进行抽样划分\n",
    "for tag in tags:\n",
    "    data = train[(train['label'] == tag)]\n",
    "    # 抽样取0.1作为验证集\n",
    "    valid_sample = data.sample(int(0.1 * len(data)))\n",
    "    valid_index = valid_sample.index\n",
    "    # 将剩余0.9的数据作为训练集\n",
    "    all_index = data.index\n",
    "    residue_index = all_index.difference(valid_index)\n",
    "    residue = data.loc[residue_index]\n",
    "    # 对取的数据进行保存\n",
    "    new_valid = pandas.concat([new_valid, valid_sample], ignore_index=True)\n",
    "    new_train = pandas.concat([new_train, residue], ignore_index=True)\n",
    "\n",
    "# 对数据进行随机打乱\n",
    "new_train = shuffle(new_train)\n",
    "new_valid = shuffle(new_valid)\n",
    "\n",
    "# 保存训练和验证集文件\n",
    "new_train.to_csv('train_data.csv', sep='\\t', index=False) # 这里使用 \\t 是因为有的数据集中包含 ,\n",
    "new_valid.to_csv('valid_data.csv', sep='\\t', index=False)"
   ]
  },
  {
   "cell_type": "markdown",
   "metadata": {},
   "source": [
    "### 加载数据集"
   ]
  },
  {
   "cell_type": "code",
   "execution_count": 7,
   "metadata": {
    "execution": {
     "iopub.execute_input": "2022-12-20T15:08:07.620844Z",
     "iopub.status.busy": "2022-12-20T15:08:07.620488Z",
     "iopub.status.idle": "2022-12-20T15:08:07.627195Z",
     "shell.execute_reply": "2022-12-20T15:08:07.626533Z",
     "shell.execute_reply.started": "2022-12-20T15:08:07.620817Z"
    },
    "scrolled": true,
    "tags": []
   },
   "outputs": [],
   "source": [
    "from paddlenlp.datasets import DatasetBuilder\n",
    "# 定义模型训练和验证对应文件及文件的格式\n",
    "class QueryData(DatasetBuilder):\n",
    "    SPLITS = {\n",
    "        'train': 'train_data.csv',\n",
    "        'dev': 'valid_data.csv',\n",
    "    }\n",
    "\n",
    "    def _get_data(self, mode, **kwargs):\n",
    "        filename = self.SPLITS[mode]\n",
    "        return filename\n",
    "\n",
    "    def _read(self, filename):\n",
    "        \"\"\"读取数据\"\"\"\n",
    "        with open(filename, 'r', encoding='utf-8') as f:\n",
    "            # 跳过列名\n",
    "            # next(f)\n",
    "            head = None\n",
    "            for line in f:\n",
    "                data = line.strip().split(\"\\t\")    # 以'\\t'分隔各列\n",
    "                if not head:\n",
    "                    # 去空\n",
    "                    head = data\n",
    "                else:\n",
    "                    question1, question2, label = data\n",
    "                    yield {\"question1\": question1, \"question2\": question2, \"label\": label}  # 数据的格式\n",
    "\n",
    "    def get_labels(self):\n",
    "        return [\"0\", \"1\"]   # 类别标签, 0、1"
   ]
  },
  {
   "cell_type": "code",
   "execution_count": 8,
   "metadata": {
    "execution": {
     "iopub.execute_input": "2022-12-20T15:08:07.628400Z",
     "iopub.status.busy": "2022-12-20T15:08:07.628071Z",
     "iopub.status.idle": "2022-12-20T15:08:07.638279Z",
     "shell.execute_reply": "2022-12-20T15:08:07.637640Z",
     "shell.execute_reply.started": "2022-12-20T15:08:07.628377Z"
    },
    "scrolled": true
   },
   "outputs": [],
   "source": [
    "# 定义数据集加载函数\n",
    "def load_dataset(name=None,\n",
    "                 data_files=None,\n",
    "                 splits=None,\n",
    "                 lazy=None,\n",
    "                 **kwargs):\n",
    "   \n",
    "    reader_cls = QueryData\n",
    "    if not name:\n",
    "        reader_instance = reader_cls(lazy=lazy, **kwargs)\n",
    "    else:\n",
    "        reader_instance = reader_cls(lazy=lazy, name=name, **kwargs)\n",
    "\n",
    "    datasets = reader_instance.read_datasets(data_files=data_files, splits=splits)\n",
    "    return datasets"
   ]
  },
  {
   "cell_type": "code",
   "execution_count": 9,
   "metadata": {
    "execution": {
     "iopub.execute_input": "2022-12-20T15:08:07.639695Z",
     "iopub.status.busy": "2022-12-20T15:08:07.639219Z",
     "iopub.status.idle": "2022-12-20T15:08:07.833687Z",
     "shell.execute_reply": "2022-12-20T15:08:07.832837Z",
     "shell.execute_reply.started": "2022-12-20T15:08:07.639670Z"
    },
    "scrolled": true,
    "tags": []
   },
   "outputs": [],
   "source": [
    "# 加载训练和验证集\n",
    "train_ds, dev_ds = load_dataset(splits=[\"train\", \"dev\"])"
   ]
  },
  {
   "cell_type": "markdown",
   "metadata": {},
   "source": [
    "## 基于PaddleNLP构建基线模型"
   ]
  },
  {
   "cell_type": "markdown",
   "metadata": {},
   "source": [
    "### 定义的预训练模型\n",
    "\n",
    "关于什么是 `bert` 可以参考知乎的一篇文章 [什么是bert](https://zhuanlan.zhihu.com/p/98855346)\n",
    "\n",
    "更多 `bert` 预训练模型可以在 [BERT](https://paddlenlp.readthedocs.io/zh/latest/model_zoo/transformers/BERT/contents.html) 这个链接里找到\n",
    "\n",
    "当然也可以使用一些其他的预训练模型, 可以参考 [PaddleNLP Transformer预训练模型](https://paddlenlp.readthedocs.io/zh/latest/model_zoo/index.html)"
   ]
  },
  {
   "cell_type": "code",
   "execution_count": 10,
   "metadata": {
    "execution": {
     "iopub.execute_input": "2022-12-20T15:08:07.835333Z",
     "iopub.status.busy": "2022-12-20T15:08:07.834769Z",
     "iopub.status.idle": "2022-12-20T15:08:26.242065Z",
     "shell.execute_reply": "2022-12-20T15:08:26.241346Z",
     "shell.execute_reply.started": "2022-12-20T15:08:07.835305Z"
    },
    "scrolled": true,
    "tags": []
   },
   "outputs": [
    {
     "name": "stderr",
     "output_type": "stream",
     "text": [
      "[2022-12-20 23:08:07,837] [    INFO] - Model config BertConfig {\r\n",
      "  \"attention_probs_dropout_prob\": 0.1,\r\n",
      "  \"fuse\": false,\r\n",
      "  \"hidden_act\": \"gelu\",\r\n",
      "  \"hidden_dropout_prob\": 0.1,\r\n",
      "  \"hidden_size\": 768,\r\n",
      "  \"initializer_range\": 0.02,\r\n",
      "  \"intermediate_size\": 3072,\r\n",
      "  \"layer_norm_eps\": 1e-12,\r\n",
      "  \"max_position_embeddings\": 512,\r\n",
      "  \"model_type\": \"bert\",\r\n",
      "  \"num_attention_heads\": 12,\r\n",
      "  \"num_hidden_layers\": 12,\r\n",
      "  \"pad_token_id\": 0,\r\n",
      "  \"paddlenlp_version\": null,\r\n",
      "  \"pool_act\": \"tanh\",\r\n",
      "  \"type_vocab_size\": 2,\r\n",
      "  \"vocab_size\": 21128\r\n",
      "}\r\n",
      "\r\n",
      "[2022-12-20 23:08:07,842] [    INFO] - Configuration saved in /home/aistudio/.paddlenlp/models/bert-wwm-ext-chinese/config.json\r\n",
      "W1220 23:08:07.847621   261 gpu_resources.cc:61] Please NOTE: device: 0, GPU Compute Capability: 7.0, Driver API Version: 11.2, Runtime API Version: 11.2\r\n",
      "W1220 23:08:07.851722   261 gpu_resources.cc:91] device: 0, cuDNN Version: 8.2.\r\n",
      "[2022-12-20 23:08:09,544] [    INFO] - Downloading bert-wwm-ext-chinese.pdparams from http://bj.bcebos.com/paddlenlp/models/transformers/bert/bert-wwm-ext-chinese.pdparams\r\n",
      "100%|██████████| 390M/390M [00:14<00:00, 28.5MB/s] \r\n",
      "[2022-12-20 23:08:24,973] [    INFO] - All model checkpoint weights were used when initializing BertModel.\r\n",
      "\r\n",
      "[2022-12-20 23:08:24,976] [    INFO] - All the weights of BertModel were initialized from the model checkpoint at bert-wwm-ext-chinese.\r\n",
      "If your task is similar to the task the model of the checkpoint was trained on, you can already use BertModel for predictions without further training.\r\n",
      "[2022-12-20 23:08:24,981] [    INFO] - Model config BertConfig {\r\n",
      "  \"attention_probs_dropout_prob\": 0.1,\r\n",
      "  \"fuse\": false,\r\n",
      "  \"hidden_act\": \"gelu\",\r\n",
      "  \"hidden_dropout_prob\": 0.1,\r\n",
      "  \"hidden_size\": 768,\r\n",
      "  \"initializer_range\": 0.02,\r\n",
      "  \"intermediate_size\": 3072,\r\n",
      "  \"layer_norm_eps\": 1e-12,\r\n",
      "  \"max_position_embeddings\": 512,\r\n",
      "  \"model_type\": \"bert\",\r\n",
      "  \"num_attention_heads\": 12,\r\n",
      "  \"num_hidden_layers\": 12,\r\n",
      "  \"pad_token_id\": 0,\r\n",
      "  \"paddlenlp_version\": null,\r\n",
      "  \"pool_act\": \"tanh\",\r\n",
      "  \"type_vocab_size\": 2,\r\n",
      "  \"vocab_size\": 21128\r\n",
      "}\r\n",
      "\r\n",
      "[2022-12-20 23:08:24,984] [    INFO] - Configuration saved in /home/aistudio/.paddlenlp/models/bert-wwm-ext-chinese/config.json\r\n",
      "[2022-12-20 23:08:26,234] [    INFO] - All model checkpoint weights were used when initializing BertForSequenceClassification.\r\n",
      "\r\n",
      "[2022-12-20 23:08:26,237] [ WARNING] - Some weights of BertForSequenceClassification were not initialized from the model checkpoint at bert-wwm-ext-chinese and are newly initialized: ['classifier.weight', 'classifier.bias']\r\n",
      "You should probably TRAIN this model on a down-stream task to be able to use it for predictions and inference.\r\n"
     ]
    }
   ],
   "source": [
    "# 定义要进行微调的预训练模型\n",
    "MODEL_NAME='bert-wwm-ext-chinese'\n",
    "roberta_model = paddlenlp.transformers.BertModel.from_pretrained(MODEL_NAME)\n",
    "model = paddlenlp.transformers.BertForSequenceClassification.from_pretrained(MODEL_NAME, num_classes=2)"
   ]
  },
  {
   "cell_type": "markdown",
   "metadata": {},
   "source": [
    "### 定义模型对应的tokenizer以进行数据处理\n",
    "\n",
    "PaddleNLP对于各种预训练模型已经内置了相应的tokenizer。指定想要使用的模型名字即可加载对应的tokenizer。tokenizer作用为将原始输入文本转化成模型model可以接受的输入数据形式。"
   ]
  },
  {
   "cell_type": "code",
   "execution_count": 11,
   "metadata": {
    "execution": {
     "iopub.execute_input": "2022-12-20T15:08:26.243531Z",
     "iopub.status.busy": "2022-12-20T15:08:26.243182Z",
     "iopub.status.idle": "2022-12-20T15:08:26.371460Z",
     "shell.execute_reply": "2022-12-20T15:08:26.370726Z",
     "shell.execute_reply.started": "2022-12-20T15:08:26.243505Z"
    },
    "scrolled": true
   },
   "outputs": [
    {
     "name": "stderr",
     "output_type": "stream",
     "text": [
      "[2022-12-20 23:08:26,245] [    INFO] - Downloading http://bj.bcebos.com/paddlenlp/models/transformers/bert/bert-wwm-ext-chinese-vocab.txt and saved to /home/aistudio/.paddlenlp/models/bert-wwm-ext-chinese\r\n",
      "[2022-12-20 23:08:26,284] [    INFO] - Downloading bert-wwm-ext-chinese-vocab.txt from http://bj.bcebos.com/paddlenlp/models/transformers/bert/bert-wwm-ext-chinese-vocab.txt\r\n",
      "100%|██████████| 107k/107k [00:00<00:00, 6.18MB/s]\r\n",
      "[2022-12-20 23:08:26,364] [    INFO] - tokenizer config file saved in /home/aistudio/.paddlenlp/models/bert-wwm-ext-chinese/tokenizer_config.json\r\n",
      "[2022-12-20 23:08:26,367] [    INFO] - Special tokens file saved in /home/aistudio/.paddlenlp/models/bert-wwm-ext-chinese/special_tokens_map.json\r\n"
     ]
    }
   ],
   "source": [
    "tokenizer = paddlenlp.transformers.BertTokenizer.from_pretrained(MODEL_NAME)"
   ]
  },
  {
   "cell_type": "markdown",
   "metadata": {},
   "source": [
    "### 数据预处理"
   ]
  },
  {
   "cell_type": "code",
   "execution_count": 12,
   "metadata": {
    "execution": {
     "iopub.execute_input": "2022-12-20T15:08:26.372884Z",
     "iopub.status.busy": "2022-12-20T15:08:26.372540Z",
     "iopub.status.idle": "2022-12-20T15:08:26.380358Z",
     "shell.execute_reply": "2022-12-20T15:08:26.379698Z",
     "shell.execute_reply.started": "2022-12-20T15:08:26.372858Z"
    },
    "scrolled": true
   },
   "outputs": [],
   "source": [
    "# 数据转换, 将 question1 和 question2 拼接, 并转成token\n",
    "def convert_example(example, tokenizer, max_seq_length=512, is_test=False):\n",
    "    qtconcat = example[\"question1\"] + example[\"question2\"]\n",
    "    encoded_inputs = tokenizer(text=qtconcat, max_seq_len=max_seq_length)\n",
    "    input_ids = encoded_inputs[\"input_ids\"]\n",
    "    token_type_ids = encoded_inputs[\"token_type_ids\"]\n",
    "\n",
    "    if not is_test:\n",
    "        label = np.array([example[\"label\"]], dtype=\"int64\")\n",
    "        return input_ids, token_type_ids, label\n",
    "    else:\n",
    "        return input_ids, token_type_ids\n",
    "\n",
    "# 数据读取和处理总函数\n",
    "def create_dataloader(dataset,\n",
    "                      mode='train',\n",
    "                      batch_size=1,\n",
    "                      batchify_fn=None,\n",
    "                      trans_fn=None):\n",
    "    if trans_fn:\n",
    "        dataset = dataset.map(trans_fn)\n",
    "\n",
    "    shuffle = True if mode == 'train' else False\n",
    "    if mode == 'train':\n",
    "        batch_sampler = paddle.io.DistributedBatchSampler(\n",
    "            dataset, batch_size=batch_size, shuffle=shuffle)\n",
    "    else:\n",
    "        batch_sampler = paddle.io.BatchSampler(\n",
    "            dataset, batch_size=batch_size, shuffle=shuffle)\n",
    "\n",
    "    return paddle.io.DataLoader(\n",
    "        dataset=dataset,\n",
    "        batch_sampler=batch_sampler,\n",
    "        collate_fn=batchify_fn,\n",
    "        return_list=True)"
   ]
  },
  {
   "cell_type": "code",
   "execution_count": 13,
   "metadata": {
    "execution": {
     "iopub.execute_input": "2022-12-20T15:08:26.381608Z",
     "iopub.status.busy": "2022-12-20T15:08:26.381267Z",
     "iopub.status.idle": "2022-12-20T15:08:26.534339Z",
     "shell.execute_reply": "2022-12-20T15:08:26.533539Z",
     "shell.execute_reply.started": "2022-12-20T15:08:26.381584Z"
    },
    "scrolled": true
   },
   "outputs": [],
   "source": [
    "from functools import partial\n",
    "from paddlenlp.data import Stack, Tuple, Pad\n",
    "\n",
    "batch_size = 50\n",
    "max_seq_length = 128\n",
    "\n",
    "trans_func = partial(\n",
    "    convert_example,\n",
    "    tokenizer=tokenizer,\n",
    "    max_seq_length=max_seq_length)\n",
    "    \n",
    "batchify_fn = lambda samples, fn=Tuple(\n",
    "    Pad(axis=0, pad_val=tokenizer.pad_token_id),  # input\n",
    "    Pad(axis=0, pad_val=tokenizer.pad_token_type_id),  # segment\n",
    "    Stack(dtype=\"int64\")  # label\n",
    "): [data for data in fn(samples)]"
   ]
  },
  {
   "cell_type": "code",
   "execution_count": 14,
   "metadata": {
    "execution": {
     "iopub.execute_input": "2022-12-20T15:08:26.537924Z",
     "iopub.status.busy": "2022-12-20T15:08:26.537401Z",
     "iopub.status.idle": "2022-12-20T15:08:26.613167Z",
     "shell.execute_reply": "2022-12-20T15:08:26.612375Z",
     "shell.execute_reply.started": "2022-12-20T15:08:26.537898Z"
    },
    "scrolled": true
   },
   "outputs": [],
   "source": [
    "# 对训练和验证集进行加载与处理\n",
    "train_data_loader = create_dataloader(\n",
    "    train_ds,\n",
    "    mode='train',\n",
    "    batch_size=batch_size,\n",
    "    batchify_fn=batchify_fn,\n",
    "    trans_fn=trans_func)\n",
    "\n",
    "dev_data_loader = create_dataloader(\n",
    "    dev_ds,\n",
    "    mode='dev',\n",
    "    batch_size=batch_size,\n",
    "    batchify_fn=batchify_fn,\n",
    "    trans_fn=trans_func)"
   ]
  },
  {
   "cell_type": "markdown",
   "metadata": {},
   "source": [
    "### 设置Fine-Tune优化策略，接入评价指标\n",
    "\n",
    "创建学习率计划，该调度程序线性增加学习率, 从 0 到给定, 在此预热期后学习率将从基本学习率线性降低到 0\n",
    "\n",
    "[LinearDecayWithWarmup](https://paddlenlp.readthedocs.io/en/latest/source/paddlenlp.transformers.optimization.html#paddlenlp.transformers.optimization.LinearDecayWithWarmup)"
   ]
  },
  {
   "cell_type": "code",
   "execution_count": 15,
   "metadata": {
    "execution": {
     "iopub.execute_input": "2022-12-20T15:08:26.614653Z",
     "iopub.status.busy": "2022-12-20T15:08:26.614177Z",
     "iopub.status.idle": "2022-12-20T15:08:26.710626Z",
     "shell.execute_reply": "2022-12-20T15:08:26.709851Z",
     "shell.execute_reply.started": "2022-12-20T15:08:26.614627Z"
    },
    "scrolled": true
   },
   "outputs": [],
   "source": [
    "# 定义超参, loss, 优化器等\n",
    "from paddlenlp.transformers import LinearDecayWithWarmup\n",
    "\n",
    "# 训练过程中的最大学习率\n",
    "learning_rate = 4e-5\n",
    "# 训练轮次\n",
    "epochs = 5\n",
    "# 学习率预热比例\n",
    "warmup_proportion = 0.1\n",
    "# 权重衰减系数，类似模型正则项策略，避免模型过拟合\n",
    "weight_decay = 0.01\n",
    "\n",
    "num_training_steps = len(train_data_loader) * epochs\n",
    "lr_scheduler = LinearDecayWithWarmup(learning_rate, num_training_steps, warmup_proportion)\n",
    "\n",
    "optimizer = paddle.optimizer.AdamW(\n",
    "    learning_rate=lr_scheduler,\n",
    "    parameters=model.parameters(),\n",
    "    weight_decay=weight_decay,\n",
    "    apply_decay_param_fun=lambda x: x in [\n",
    "        p.name for n, p in model.named_parameters()\n",
    "        if not any(nd in n for nd in [\"bias\", \"norm\"])\n",
    "    ])\n",
    "\n",
    "criterion = paddle.nn.loss.CrossEntropyLoss()\n",
    "metric = paddle.metric.Accuracy()"
   ]
  },
  {
   "cell_type": "markdown",
   "metadata": {},
   "source": [
    "### 模型训练与评估"
   ]
  },
  {
   "cell_type": "code",
   "execution_count": 16,
   "metadata": {
    "execution": {
     "iopub.execute_input": "2022-12-20T15:08:26.712040Z",
     "iopub.status.busy": "2022-12-20T15:08:26.711694Z",
     "iopub.status.idle": "2022-12-20T15:08:26.788747Z",
     "shell.execute_reply": "2022-12-20T15:08:26.788013Z",
     "shell.execute_reply.started": "2022-12-20T15:08:26.712014Z"
    },
    "scrolled": true
   },
   "outputs": [],
   "source": [
    "import numpy as np\n",
    "# 定义模型训练验证评估函数\n",
    "@paddle.no_grad() # 这里不需要反向传播、优化器参数更新和优化器梯度清零, 所以禁用动态图梯度计算\n",
    "def evaluate(model, criterion, metric, data_loader):\n",
    "    \"\"\"\n",
    "    Given a dataset, it evals model and computes the metric.\n",
    "\n",
    "    Args:\n",
    "        model(obj:`paddle.nn.Layer`): A model to classify texts.\n",
    "        data_loader(obj:`paddle.io.DataLoader`): The dataset loader which generates batches.\n",
    "        criterion(obj:`paddle.nn.Layer`): It can compute the loss.\n",
    "        metric(obj:`paddle.metric.Metric`): The evaluation metric.\n",
    "    \"\"\"\n",
    "    model.eval()\n",
    "    metric.reset()\n",
    "    losses = []\n",
    "    for batch in data_loader:\n",
    "        input_ids, token_type_ids, labels = batch\n",
    "        logits = model(input_ids, token_type_ids)\n",
    "        loss = criterion(logits, labels)\n",
    "        losses.append(loss.numpy())\n",
    "        correct = metric.compute(logits, labels)\n",
    "        metric.update(correct)\n",
    "        accu = metric.accumulate()\n",
    "    print(\"eval loss: %.5f, accu: %.5f\" % (np.mean(losses), accu))\n",
    "    model.train()\n",
    "    metric.reset()\n",
    "    return np.mean(losses), accu"
   ]
  },
  {
   "cell_type": "code",
   "execution_count": null,
   "metadata": {
    "scrolled": true,
    "tags": []
   },
   "outputs": [],
   "source": [
    "# 模型训练\n",
    "import paddle.nn.functional as F\n",
    "best_loss=float('inf') # 正无穷\n",
    "best_accu=0\n",
    "global_step = 0\n",
    "for epoch in range(1, epochs + 1):\n",
    "    for step, batch in enumerate(train_data_loader, start=1):\n",
    "        input_ids, segment_ids, labels = batch\n",
    "        logits = model(input_ids, segment_ids)\n",
    "        loss = criterion(logits, labels)\n",
    "        probs = F.softmax(logits, axis=1)\n",
    "        correct = metric.compute(probs, labels)\n",
    "        metric.update(correct)\n",
    "        acc = metric.accumulate()\n",
    "\n",
    "        global_step += 1\n",
    "        if global_step % 10 == 0 :\n",
    "            print(\"global step %d, epoch: %d, batch: %d, loss: %.5f, acc: %.5f\" % (global_step, epoch, step, loss, acc))\n",
    "        loss.backward()\n",
    "        optimizer.step()\n",
    "        lr_scheduler.step()\n",
    "        optimizer.clear_grad()\n",
    "    # 对验证集进行评估\n",
    "    loss, accu=evaluate(model, criterion, metric, dev_data_loader)\n",
    "    if(best_loss>loss):\n",
    "        print('best loss from {} to {}'.format(best_loss,loss))\n",
    "        best_loss=loss\n",
    "        # 这里的保存用的是 nlp 的 api\n",
    "        # https://paddlenlp.readthedocs.io/zh/latest/source/paddlenlp.transformers.model_utils.html?highlight=save_pretrained()#paddlenlp.transformers.model_utils.PretrainedModel.save_pretrained_v2\n",
    "        model.save_pretrained('./output/best_loss') \n",
    "        tokenizer.save_pretrained('./output/best_loss')\n",
    "\n",
    "    if(best_accu<accu):\n",
    "        print('best accuracy from {} to {}'.format(best_accu,accu))\n",
    "        best_accu=accu\n",
    "        model.save_pretrained('./output/best_accu')\n",
    "        tokenizer.save_pretrained('./output/best_accu')\n"
   ]
  },
  {
   "cell_type": "markdown",
   "metadata": {},
   "source": [
    "### 模型预测"
   ]
  },
  {
   "cell_type": "code",
   "execution_count": 18,
   "metadata": {
    "execution": {
     "iopub.execute_input": "2022-12-20T15:14:51.916530Z",
     "iopub.status.busy": "2022-12-20T15:14:51.915987Z",
     "iopub.status.idle": "2022-12-20T15:14:51.924189Z",
     "shell.execute_reply": "2022-12-20T15:14:51.923488Z",
     "shell.execute_reply.started": "2022-12-20T15:14:51.916502Z"
    },
    "scrolled": true
   },
   "outputs": [],
   "source": [
    "# 定义模型预测函数\n",
    "def predict(model, data, tokenizer, label_map, batch_size=1):\n",
    "    \n",
    "    examples = []\n",
    "    for text in data:\n",
    "        input_ids, segment_ids = convert_example(\n",
    "            text,\n",
    "            tokenizer,\n",
    "            max_seq_length=128,\n",
    "            is_test=True)\n",
    "        examples.append((input_ids, segment_ids))\n",
    "\n",
    "    batchify_fn = lambda samples, fn=Tuple(\n",
    "        Pad(axis=0, pad_val=tokenizer.pad_token_id),\n",
    "        Pad(axis=0, pad_val=tokenizer.pad_token_id),\n",
    "    ): fn(samples)\n",
    "\n",
    "    batches = []\n",
    "    one_batch = []\n",
    "    for example in examples:\n",
    "        one_batch.append(example)\n",
    "        if len(one_batch) == batch_size:\n",
    "            batches.append(one_batch)\n",
    "            one_batch = []\n",
    "    if one_batch:\n",
    "        batches.append(one_batch)\n",
    "\n",
    "    results = []\n",
    "    model.eval()\n",
    "    for batch in batches:\n",
    "        input_ids, segment_ids = batchify_fn(batch)\n",
    "        input_ids = paddle.to_tensor(input_ids)\n",
    "        segment_ids = paddle.to_tensor(segment_ids)\n",
    "        logits = model(input_ids, segment_ids)\n",
    "        probs = F.softmax(logits, axis=1)\n",
    "        idx = paddle.argmax(probs, axis=1).numpy()\n",
    "        idx = idx.tolist()\n",
    "        labels = [label_map[i] for i in idx]\n",
    "        results.extend(labels)\n",
    "    return results"
   ]
  },
  {
   "cell_type": "code",
   "execution_count": 19,
   "metadata": {
    "execution": {
     "iopub.execute_input": "2022-12-20T15:14:51.925402Z",
     "iopub.status.busy": "2022-12-20T15:14:51.925107Z",
     "iopub.status.idle": "2022-12-20T15:14:53.382169Z",
     "shell.execute_reply": "2022-12-20T15:14:53.381137Z",
     "shell.execute_reply.started": "2022-12-20T15:14:51.925378Z"
    },
    "scrolled": true
   },
   "outputs": [
    {
     "name": "stderr",
     "output_type": "stream",
     "text": [
      "[2022-12-20 23:14:52,001] [    INFO] - loading configuration file ./output/best_accu/config.json\r\n",
      "[2022-12-20 23:14:52,004] [    INFO] - Model config BertConfig {\r\n",
      "  \"architectures\": [\r\n",
      "    \"BertForSequenceClassification\"\r\n",
      "  ],\r\n",
      "  \"attention_probs_dropout_prob\": 0.1,\r\n",
      "  \"dtype\": \"float32\",\r\n",
      "  \"fuse\": false,\r\n",
      "  \"hidden_act\": \"gelu\",\r\n",
      "  \"hidden_dropout_prob\": 0.1,\r\n",
      "  \"hidden_size\": 768,\r\n",
      "  \"initializer_range\": 0.02,\r\n",
      "  \"intermediate_size\": 3072,\r\n",
      "  \"layer_norm_eps\": 1e-12,\r\n",
      "  \"max_position_embeddings\": 512,\r\n",
      "  \"model_type\": \"bert\",\r\n",
      "  \"num_attention_heads\": 12,\r\n",
      "  \"num_hidden_layers\": 12,\r\n",
      "  \"pad_token_id\": 0,\r\n",
      "  \"paddlenlp_version\": null,\r\n",
      "  \"pool_act\": \"tanh\",\r\n",
      "  \"type_vocab_size\": 2,\r\n",
      "  \"vocab_size\": 21128\r\n",
      "}\r\n",
      "\r\n",
      "[2022-12-20 23:14:52,007] [    INFO] - Configuration saved in ./output/best_accu/config.json\r\n",
      "[2022-12-20 23:14:53,373] [    INFO] - All model checkpoint weights were used when initializing BertForSequenceClassification.\r\n",
      "\r\n",
      "[2022-12-20 23:14:53,376] [    INFO] - All the weights of BertForSequenceClassification were initialized from the model checkpoint at ./output/best_accu.\r\n",
      "If your task is similar to the task the model of the checkpoint was trained on, you can already use BertForSequenceClassification for predictions without further training.\r\n"
     ]
    }
   ],
   "source": [
    "model = paddlenlp.transformers.BertForSequenceClassification.from_pretrained('./output/best_accu')"
   ]
  },
  {
   "cell_type": "code",
   "execution_count": 26,
   "metadata": {
    "execution": {
     "iopub.execute_input": "2022-12-20T15:27:48.253239Z",
     "iopub.status.busy": "2022-12-20T15:27:48.252513Z",
     "iopub.status.idle": "2022-12-20T15:28:00.561890Z",
     "shell.execute_reply": "2022-12-20T15:28:00.561142Z",
     "shell.execute_reply.started": "2022-12-20T15:27:48.253205Z"
    },
    "scrolled": true,
    "tags": []
   },
   "outputs": [
    {
     "data": {
      "text/html": [
       "<div>\n",
       "<style scoped>\n",
       "    .dataframe tbody tr th:only-of-type {\n",
       "        vertical-align: middle;\n",
       "    }\n",
       "\n",
       "    .dataframe tbody tr th {\n",
       "        vertical-align: top;\n",
       "    }\n",
       "\n",
       "    .dataframe thead th {\n",
       "        text-align: right;\n",
       "    }\n",
       "</style>\n",
       "<table border=\"1\" class=\"dataframe\">\n",
       "  <thead>\n",
       "    <tr style=\"text-align: right;\">\n",
       "      <th></th>\n",
       "      <th>label</th>\n",
       "      <th>question1</th>\n",
       "      <th>question2</th>\n",
       "    </tr>\n",
       "  </thead>\n",
       "  <tbody>\n",
       "    <tr>\n",
       "      <th>0</th>\n",
       "      <td>0</td>\n",
       "      <td>乳腺癌晚期治疗费用要多少</td>\n",
       "      <td>乳腺癌症做放疗一次费用要多少钱呢</td>\n",
       "    </tr>\n",
       "    <tr>\n",
       "      <th>1</th>\n",
       "      <td>1</td>\n",
       "      <td>得了艾滋病会被隔离么</td>\n",
       "      <td>艾滋病为什么不被隔离，如果病毒携带</td>\n",
       "    </tr>\n",
       "    <tr>\n",
       "      <th>2</th>\n",
       "      <td>1</td>\n",
       "      <td>口腔溃疡接吻会不会传染乙肝呀</td>\n",
       "      <td>接吻可以传染乙肝吗</td>\n",
       "    </tr>\n",
       "    <tr>\n",
       "      <th>3</th>\n",
       "      <td>1</td>\n",
       "      <td>高血压脑病的个案护理？我想知道高血压脑病的个案护理。高血压脑病的护理问题有哪些</td>\n",
       "      <td>老年人患高血压，生活中应注意哪些方面？</td>\n",
       "    </tr>\n",
       "    <tr>\n",
       "      <th>4</th>\n",
       "      <td>1</td>\n",
       "      <td>乳腺癌晚期有什么症状</td>\n",
       "      <td>晚期的乳腺癌的症状是哪些呢？</td>\n",
       "    </tr>\n",
       "  </tbody>\n",
       "</table>\n",
       "</div>"
      ],
      "text/plain": [
       "  label                                question1            question2\n",
       "0     0                             乳腺癌晚期治疗费用要多少     乳腺癌症做放疗一次费用要多少钱呢\n",
       "1     1                               得了艾滋病会被隔离么    艾滋病为什么不被隔离，如果病毒携带\n",
       "2     1                           口腔溃疡接吻会不会传染乙肝呀            接吻可以传染乙肝吗\n",
       "3     1  高血压脑病的个案护理？我想知道高血压脑病的个案护理。高血压脑病的护理问题有哪些  老年人患高血压，生活中应注意哪些方面？\n",
       "4     1                               乳腺癌晚期有什么症状       晚期的乳腺癌的症状是哪些呢？"
      ]
     },
     "execution_count": 26,
     "metadata": {},
     "output_type": "execute_result"
    }
   ],
   "source": [
    "# 模型预测：\n",
    "label_map = {0:'0', 1:'1'}\n",
    "\n",
    "# 定义对数据的预处理函数\n",
    "def preprocess_prediction_data(data):\n",
    "    examples = []\n",
    "    for question1, question2 in data:\n",
    "        examples.append({\"question1\": question1, \"question2\": question2})\n",
    "    return examples\n",
    "\n",
    "# 对测试集的格式处理\n",
    "data1 = list(dev.values)\n",
    "examples = preprocess_prediction_data(data1)\n",
    "\n",
    "# 对测试集进行预测\n",
    "results = predict(model, examples, tokenizer, label_map, batch_size=batch_size)\n",
    "\n",
    "# 保存预测结果文件, 格式为label\n",
    "results = pandas.DataFrame(results)\n",
    "results.columns = [\"label\"]\n",
    "results['question1'] = dev['question1']\n",
    "results['question2'] = dev['question2']\n",
    "\n",
    "results.to_csv('result.csv',index=False)\n",
    "results.head()"
   ]
  },
  {
   "cell_type": "markdown",
   "metadata": {},
   "source": [
    "### 总结\n",
    "\n",
    " * 本项目使用 paddlenlp 高阶 api 完成对文本的匹配\n",
    " * 可以尝试换个预训练模型, 虽然这个也不错了\n"
   ]
  }
 ],
 "metadata": {
  "kernelspec": {
   "display_name": "Python 3",
   "language": "python",
   "name": "python3"
  },
  "language_info": {
   "codemirror_mode": {
    "name": "ipython",
    "version": 3
   },
   "file_extension": ".py",
   "mimetype": "text/x-python",
   "name": "python",
   "nbconvert_exporter": "python",
   "pygments_lexer": "ipython3",
   "version": "3.9.0 (default, Aug  5 2022, 19:53:27) \n[Clang 13.1.6 (clang-1316.0.21.2.5)]"
  },
  "vscode": {
   "interpreter": {
    "hash": "2fa9bb73782777770fcaa059a89f4d5fefa515dc1ea7fdda15a42f46a5c33394"
   }
  }
 },
 "nbformat": 4,
 "nbformat_minor": 4
}
